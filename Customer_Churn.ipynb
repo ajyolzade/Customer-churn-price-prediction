{
 "cells": [
  {
   "cell_type": "code",
   "execution_count": 1,
   "id": "31bb0af8",
   "metadata": {},
   "outputs": [],
   "source": [
    "import pandas as pd\n"
   ]
  },
  {
   "cell_type": "code",
   "execution_count": 4,
   "id": "942524ef",
   "metadata": {},
   "outputs": [
    {
     "name": "stdout",
     "output_type": "stream",
     "text": [
      "(100000, 9)\n"
     ]
    },
    {
     "data": {
      "text/html": [
       "<div>\n",
       "<style scoped>\n",
       "    .dataframe tbody tr th:only-of-type {\n",
       "        vertical-align: middle;\n",
       "    }\n",
       "\n",
       "    .dataframe tbody tr th {\n",
       "        vertical-align: top;\n",
       "    }\n",
       "\n",
       "    .dataframe thead th {\n",
       "        text-align: right;\n",
       "    }\n",
       "</style>\n",
       "<table border=\"1\" class=\"dataframe\">\n",
       "  <thead>\n",
       "    <tr style=\"text-align: right;\">\n",
       "      <th></th>\n",
       "      <th>CustomerID</th>\n",
       "      <th>Name</th>\n",
       "      <th>Age</th>\n",
       "      <th>Gender</th>\n",
       "      <th>Location</th>\n",
       "      <th>Subscription_Length_Months</th>\n",
       "      <th>Monthly_Bill</th>\n",
       "      <th>Total_Usage_GB</th>\n",
       "      <th>Churn</th>\n",
       "    </tr>\n",
       "  </thead>\n",
       "  <tbody>\n",
       "    <tr>\n",
       "      <th>0</th>\n",
       "      <td>1</td>\n",
       "      <td>Customer_1</td>\n",
       "      <td>63</td>\n",
       "      <td>Male</td>\n",
       "      <td>Los Angeles</td>\n",
       "      <td>17</td>\n",
       "      <td>73.36</td>\n",
       "      <td>236</td>\n",
       "      <td>0</td>\n",
       "    </tr>\n",
       "    <tr>\n",
       "      <th>1</th>\n",
       "      <td>2</td>\n",
       "      <td>Customer_2</td>\n",
       "      <td>62</td>\n",
       "      <td>Female</td>\n",
       "      <td>New York</td>\n",
       "      <td>1</td>\n",
       "      <td>48.76</td>\n",
       "      <td>172</td>\n",
       "      <td>0</td>\n",
       "    </tr>\n",
       "    <tr>\n",
       "      <th>2</th>\n",
       "      <td>3</td>\n",
       "      <td>Customer_3</td>\n",
       "      <td>24</td>\n",
       "      <td>Female</td>\n",
       "      <td>Los Angeles</td>\n",
       "      <td>5</td>\n",
       "      <td>85.47</td>\n",
       "      <td>460</td>\n",
       "      <td>0</td>\n",
       "    </tr>\n",
       "  </tbody>\n",
       "</table>\n",
       "</div>"
      ],
      "text/plain": [
       "   CustomerID        Name  Age  Gender     Location  \\\n",
       "0           1  Customer_1   63    Male  Los Angeles   \n",
       "1           2  Customer_2   62  Female     New York   \n",
       "2           3  Customer_3   24  Female  Los Angeles   \n",
       "\n",
       "   Subscription_Length_Months  Monthly_Bill  Total_Usage_GB  Churn  \n",
       "0                          17         73.36             236      0  \n",
       "1                           1         48.76             172      0  \n",
       "2                           5         85.47             460      0  "
      ]
     },
     "execution_count": 4,
     "metadata": {},
     "output_type": "execute_result"
    }
   ],
   "source": [
    "data = pd.read_excel(\"customer_churn_large_dataset.xlsx\")\n",
    "print(data.shape)\n",
    "data.head(3)"
   ]
  },
  {
   "cell_type": "code",
   "execution_count": 5,
   "id": "911319a8",
   "metadata": {},
   "outputs": [
    {
     "name": "stdout",
     "output_type": "stream",
     "text": [
      "(100000, 7)\n"
     ]
    },
    {
     "data": {
      "text/html": [
       "<div>\n",
       "<style scoped>\n",
       "    .dataframe tbody tr th:only-of-type {\n",
       "        vertical-align: middle;\n",
       "    }\n",
       "\n",
       "    .dataframe tbody tr th {\n",
       "        vertical-align: top;\n",
       "    }\n",
       "\n",
       "    .dataframe thead th {\n",
       "        text-align: right;\n",
       "    }\n",
       "</style>\n",
       "<table border=\"1\" class=\"dataframe\">\n",
       "  <thead>\n",
       "    <tr style=\"text-align: right;\">\n",
       "      <th></th>\n",
       "      <th>Age</th>\n",
       "      <th>Gender</th>\n",
       "      <th>Location</th>\n",
       "      <th>Subscription_Length_Months</th>\n",
       "      <th>Monthly_Bill</th>\n",
       "      <th>Total_Usage_GB</th>\n",
       "      <th>Churn</th>\n",
       "    </tr>\n",
       "  </thead>\n",
       "  <tbody>\n",
       "    <tr>\n",
       "      <th>0</th>\n",
       "      <td>63</td>\n",
       "      <td>Male</td>\n",
       "      <td>Los Angeles</td>\n",
       "      <td>17</td>\n",
       "      <td>73.36</td>\n",
       "      <td>236</td>\n",
       "      <td>0</td>\n",
       "    </tr>\n",
       "    <tr>\n",
       "      <th>1</th>\n",
       "      <td>62</td>\n",
       "      <td>Female</td>\n",
       "      <td>New York</td>\n",
       "      <td>1</td>\n",
       "      <td>48.76</td>\n",
       "      <td>172</td>\n",
       "      <td>0</td>\n",
       "    </tr>\n",
       "    <tr>\n",
       "      <th>2</th>\n",
       "      <td>24</td>\n",
       "      <td>Female</td>\n",
       "      <td>Los Angeles</td>\n",
       "      <td>5</td>\n",
       "      <td>85.47</td>\n",
       "      <td>460</td>\n",
       "      <td>0</td>\n",
       "    </tr>\n",
       "  </tbody>\n",
       "</table>\n",
       "</div>"
      ],
      "text/plain": [
       "   Age  Gender     Location  Subscription_Length_Months  Monthly_Bill  \\\n",
       "0   63    Male  Los Angeles                          17         73.36   \n",
       "1   62  Female     New York                           1         48.76   \n",
       "2   24  Female  Los Angeles                           5         85.47   \n",
       "\n",
       "   Total_Usage_GB  Churn  \n",
       "0             236      0  \n",
       "1             172      0  \n",
       "2             460      0  "
      ]
     },
     "execution_count": 5,
     "metadata": {},
     "output_type": "execute_result"
    }
   ],
   "source": [
    "new_data = data.drop(columns=['CustomerID', 'Name'])\n",
    "\n",
    "print(new_data.shape)\n",
    "new_data.head(3)"
   ]
  },
  {
   "cell_type": "code",
   "execution_count": 6,
   "id": "f570870d",
   "metadata": {},
   "outputs": [
    {
     "data": {
      "text/html": [
       "<div>\n",
       "<style scoped>\n",
       "    .dataframe tbody tr th:only-of-type {\n",
       "        vertical-align: middle;\n",
       "    }\n",
       "\n",
       "    .dataframe tbody tr th {\n",
       "        vertical-align: top;\n",
       "    }\n",
       "\n",
       "    .dataframe thead th {\n",
       "        text-align: right;\n",
       "    }\n",
       "</style>\n",
       "<table border=\"1\" class=\"dataframe\">\n",
       "  <thead>\n",
       "    <tr style=\"text-align: right;\">\n",
       "      <th></th>\n",
       "      <th>Age</th>\n",
       "      <th>Gender</th>\n",
       "      <th>Location</th>\n",
       "      <th>Subscription_Length_Months</th>\n",
       "      <th>Monthly_Bill</th>\n",
       "      <th>Total_Usage_GB</th>\n",
       "      <th>Churn</th>\n",
       "    </tr>\n",
       "  </thead>\n",
       "  <tbody>\n",
       "    <tr>\n",
       "      <th>45214</th>\n",
       "      <td>62</td>\n",
       "      <td>Female</td>\n",
       "      <td>Houston</td>\n",
       "      <td>6</td>\n",
       "      <td>48.81</td>\n",
       "      <td>298</td>\n",
       "      <td>0</td>\n",
       "    </tr>\n",
       "  </tbody>\n",
       "</table>\n",
       "</div>"
      ],
      "text/plain": [
       "       Age  Gender Location  Subscription_Length_Months  Monthly_Bill  \\\n",
       "45214   62  Female  Houston                           6         48.81   \n",
       "\n",
       "       Total_Usage_GB  Churn  \n",
       "45214             298      0  "
      ]
     },
     "execution_count": 6,
     "metadata": {},
     "output_type": "execute_result"
    }
   ],
   "source": [
    "new_data.sample(1)"
   ]
  },
  {
   "cell_type": "code",
   "execution_count": 7,
   "id": "459fa1b0",
   "metadata": {},
   "outputs": [],
   "source": [
    "X = new_data.iloc[:, :-1]\n",
    "y = new_data.iloc[:, -1]"
   ]
  },
  {
   "cell_type": "code",
   "execution_count": 8,
   "id": "8ae685b1",
   "metadata": {},
   "outputs": [],
   "source": [
    "from sklearn.model_selection import train_test_split\n",
    "from sklearn.preprocessing import OneHotEncoder\n",
    "from sklearn.preprocessing import StandardScaler\n",
    "from sklearn.compose import ColumnTransformer\n",
    "from sklearn.pipeline import Pipeline\n",
    "from sklearn.linear_model import LogisticRegression\n",
    "from sklearn.ensemble import RandomForestClassifier\n",
    "from sklearn.metrics import accuracy_score, precision_score, recall_score, f1_score\n",
    "from sklearn.model_selection import cross_validate"
   ]
  },
  {
   "cell_type": "code",
   "execution_count": 9,
   "id": "5e72a8b6",
   "metadata": {},
   "outputs": [
    {
     "data": {
      "text/plain": [
       "((90000, 6), (10000, 6), (90000,), (10000,))"
      ]
     },
     "execution_count": 9,
     "metadata": {},
     "output_type": "execute_result"
    }
   ],
   "source": [
    "#  training and testing set\n",
    "X_train, X_test, y_train, y_test = train_test_split(X, y, test_size=0.1, random_state=42, shuffle=True)\n",
    "\n",
    "X_train.shape, X_test.shape, y_train.shape, y_test.shape"
   ]
  },
  {
   "cell_type": "code",
   "execution_count": 10,
   "id": "7079baec",
   "metadata": {},
   "outputs": [],
   "source": [
    "# Categorical & Numerical features\n",
    "categorical_features = ['Gender', 'Location']\n",
    "numerical_features = ['Age', 'Subscription_Length_Months', 'Monthly_Bill', 'Total_Usage_GB']\n",
    "\n",
    "#  `StandardScalar` and `OneHotEncoder` \n",
    "one_hot_encoder = OneHotEncoder()\n",
    "standard_scalar = StandardScaler()\n",
    "\n",
    "\n",
    "preprocesser = ColumnTransformer(transformers=(\n",
    "    ('encode_gender', one_hot_encoder, categorical_features),\n",
    "    ('standardization', standard_scalar, numerical_features)\n",
    "))"
   ]
  },
  {
   "cell_type": "code",
   "execution_count": 11,
   "id": "fb9a18f9",
   "metadata": {},
   "outputs": [],
   "source": [
    "# Model Pipeline for Logistic Regrion\n",
    "clf = Pipeline(steps=(\n",
    "    ('preprocessing', preprocesser),\n",
    "    ('classifier', LogisticRegression())\n",
    "))"
   ]
  },
  {
   "cell_type": "code",
   "execution_count": 12,
   "id": "70305100",
   "metadata": {},
   "outputs": [
    {
     "name": "stdout",
     "output_type": "stream",
     "text": [
      "Accuracy score of Logistic Regression is:  0.4994\n"
     ]
    }
   ],
   "source": [
    "clf.fit(X_train, y_train)\n",
    "print(\"Accuracy score of Logistic Regression is: \", clf.score(X_test, y_test))"
   ]
  },
  {
   "cell_type": "code",
   "execution_count": 13,
   "id": "f5039bbb",
   "metadata": {},
   "outputs": [
    {
     "name": "stdout",
     "output_type": "stream",
     "text": [
      "The precision score of Logistic Regression is:  0.4985514880168554\n",
      "The recall score of Logistic Regression is:  0.378978978978979\n",
      "The F1 score of Logistic Regression is:  0.4306187443130118\n"
     ]
    }
   ],
   "source": [
    "# Check score using other metrics like `Precision Score`, `Recall Score`, `F1 Score`\n",
    "y_pred = clf.predict(X_test)\n",
    "\n",
    "print(\"The precision score of Logistic Regression is: \", precision_score(y_test, y_pred))\n",
    "print(\"The recall score of Logistic Regression is: \", recall_score(y_test, y_pred))\n",
    "print(\"The F1 score of Logistic Regression is: \", f1_score(y_test, y_pred))"
   ]
  },
  {
   "cell_type": "code",
   "execution_count": 14,
   "id": "073253b4",
   "metadata": {},
   "outputs": [],
   "source": [
    "# Create `Model Pipeline` for `RandomForestClassifier` \n",
    "clf2 = Pipeline(steps=[\n",
    "    ('preprocessing', preprocesser),\n",
    "    ('classifier', RandomForestClassifier())\n",
    "])"
   ]
  },
  {
   "cell_type": "code",
   "execution_count": 15,
   "id": "dfc8967e",
   "metadata": {},
   "outputs": [
    {
     "name": "stdout",
     "output_type": "stream",
     "text": [
      "The accuracy score of Random Forest Classifier is: 0.4945\n"
     ]
    }
   ],
   "source": [
    "clf2.fit(X_train, y_train)\n",
    "print(\"The accuracy score of Random Forest Classifier is:\", clf2.score(X_test, y_test))"
   ]
  },
  {
   "cell_type": "code",
   "execution_count": 16,
   "id": "3cf4bc00",
   "metadata": {},
   "outputs": [
    {
     "name": "stdout",
     "output_type": "stream",
     "text": [
      "The precision score of Logistic Regression is:  0.49366018596787825\n",
      "The recall score of Logistic Regression is:  0.46766766766766765\n",
      "The F1 score of Logistic Regression is:  0.480312532127069\n"
     ]
    }
   ],
   "source": [
    "# Check score using other metrics like `Precision Score`, `Recall Score`, `F1 Score`\n",
    "y_pred = clf2.predict(X_test)\n",
    "\n",
    "print(\"The precision score of Logistic Regression is: \", precision_score(y_test, y_pred))\n",
    "print(\"The recall score of Logistic Regression is: \", recall_score(y_test, y_pred))\n",
    "print(\"The F1 score of Logistic Regression is: \", f1_score(y_test, y_pred))"
   ]
  },
  {
   "cell_type": "code",
   "execution_count": 17,
   "id": "c0410dfb",
   "metadata": {},
   "outputs": [],
   "source": [
    "import tensorflow as tf\n",
    "from tensorflow import keras"
   ]
  },
  {
   "cell_type": "code",
   "execution_count": 18,
   "id": "5f1a312f",
   "metadata": {},
   "outputs": [],
   "source": [
    "# Create `Features` & `Targets`\n",
    "features = preprocesser.fit_transform(X_train)\n",
    "targets = y_train"
   ]
  },
  {
   "cell_type": "code",
   "execution_count": 19,
   "id": "a86b51a7",
   "metadata": {},
   "outputs": [],
   "source": [
    "# Create Model using `Sequential` layer\n",
    "model = keras.Sequential(layers=[\n",
    "    keras.layers.Dense(units=64, activation=\"relu\", input_shape=(features.shape[1], )),\n",
    "    keras.layers.Dropout(rate=0.2),\n",
    "    keras.layers.Dense(units=128, activation=\"relu\"),\n",
    "    keras.layers.Dropout(rate=0.2),\n",
    "    keras.layers.Dense(units=64, activation=\"relu\"),\n",
    "    keras.layers.Dropout(rate=0.2),\n",
    "    keras.layers.Dense(units=1, activation=\"sigmoid\")\n",
    "])"
   ]
  },
  {
   "cell_type": "code",
   "execution_count": 20,
   "id": "cdc3dfc1",
   "metadata": {},
   "outputs": [],
   "source": [
    "model.compile(optimizer=\"adam\", loss=\"binary_crossentropy\", metrics=[\"accuracy\"])"
   ]
  },
  {
   "cell_type": "code",
   "execution_count": 21,
   "id": "f25bcf58",
   "metadata": {},
   "outputs": [
    {
     "name": "stdout",
     "output_type": "stream",
     "text": [
      "Model: \"sequential\"\n",
      "_________________________________________________________________\n",
      " Layer (type)                Output Shape              Param #   \n",
      "=================================================================\n",
      " dense (Dense)               (None, 64)                768       \n",
      "                                                                 \n",
      " dropout (Dropout)           (None, 64)                0         \n",
      "                                                                 \n",
      " dense_1 (Dense)             (None, 128)               8320      \n",
      "                                                                 \n",
      " dropout_1 (Dropout)         (None, 128)               0         \n",
      "                                                                 \n",
      " dense_2 (Dense)             (None, 64)                8256      \n",
      "                                                                 \n",
      " dropout_2 (Dropout)         (None, 64)                0         \n",
      "                                                                 \n",
      " dense_3 (Dense)             (None, 1)                 65        \n",
      "                                                                 \n",
      "=================================================================\n",
      "Total params: 17409 (68.00 KB)\n",
      "Trainable params: 17409 (68.00 KB)\n",
      "Non-trainable params: 0 (0.00 Byte)\n",
      "_________________________________________________________________\n"
     ]
    }
   ],
   "source": [
    "model.summary()"
   ]
  },
  {
   "cell_type": "code",
   "execution_count": 22,
   "id": "068c6662",
   "metadata": {},
   "outputs": [
    {
     "name": "stdout",
     "output_type": "stream",
     "text": [
      "Epoch 1/50\n",
      "72/72 [==============================] - 2s 12ms/step - loss: 0.6951 - accuracy: 0.5010 - val_loss: 0.6933 - val_accuracy: 0.4991\n",
      "Epoch 2/50\n",
      "72/72 [==============================] - 0s 7ms/step - loss: 0.6934 - accuracy: 0.5038 - val_loss: 0.6933 - val_accuracy: 0.4994\n",
      "Epoch 3/50\n",
      "72/72 [==============================] - 0s 6ms/step - loss: 0.6931 - accuracy: 0.5054 - val_loss: 0.6934 - val_accuracy: 0.4987\n",
      "Epoch 4/50\n",
      "72/72 [==============================] - 1s 7ms/step - loss: 0.6931 - accuracy: 0.5073 - val_loss: 0.6933 - val_accuracy: 0.5004\n",
      "Epoch 5/50\n",
      "72/72 [==============================] - 1s 11ms/step - loss: 0.6931 - accuracy: 0.5052 - val_loss: 0.6935 - val_accuracy: 0.4999\n",
      "Epoch 6/50\n",
      "72/72 [==============================] - 1s 7ms/step - loss: 0.6931 - accuracy: 0.5056 - val_loss: 0.6933 - val_accuracy: 0.5009\n",
      "Epoch 7/50\n",
      "72/72 [==============================] - 1s 7ms/step - loss: 0.6930 - accuracy: 0.5074 - val_loss: 0.6934 - val_accuracy: 0.4991\n",
      "Epoch 8/50\n",
      "72/72 [==============================] - 0s 6ms/step - loss: 0.6929 - accuracy: 0.5097 - val_loss: 0.6934 - val_accuracy: 0.5022\n",
      "Epoch 9/50\n",
      "72/72 [==============================] - 0s 6ms/step - loss: 0.6929 - accuracy: 0.5079 - val_loss: 0.6934 - val_accuracy: 0.4970\n",
      "Epoch 10/50\n",
      "72/72 [==============================] - 0s 6ms/step - loss: 0.6929 - accuracy: 0.5094 - val_loss: 0.6935 - val_accuracy: 0.4977\n",
      "Epoch 11/50\n",
      "72/72 [==============================] - 0s 6ms/step - loss: 0.6928 - accuracy: 0.5103 - val_loss: 0.6935 - val_accuracy: 0.4946\n",
      "Epoch 12/50\n",
      "72/72 [==============================] - 0s 7ms/step - loss: 0.6928 - accuracy: 0.5101 - val_loss: 0.6935 - val_accuracy: 0.4993\n",
      "Epoch 13/50\n",
      "72/72 [==============================] - 0s 6ms/step - loss: 0.6926 - accuracy: 0.5106 - val_loss: 0.6936 - val_accuracy: 0.4956\n",
      "Epoch 14/50\n",
      "72/72 [==============================] - 0s 6ms/step - loss: 0.6928 - accuracy: 0.5126 - val_loss: 0.6934 - val_accuracy: 0.4979\n",
      "Epoch 15/50\n",
      "72/72 [==============================] - 0s 7ms/step - loss: 0.6926 - accuracy: 0.5122 - val_loss: 0.6935 - val_accuracy: 0.5001\n",
      "Epoch 16/50\n",
      "72/72 [==============================] - 0s 6ms/step - loss: 0.6925 - accuracy: 0.5112 - val_loss: 0.6937 - val_accuracy: 0.4986\n",
      "Epoch 17/50\n",
      "72/72 [==============================] - 0s 6ms/step - loss: 0.6928 - accuracy: 0.5113 - val_loss: 0.6935 - val_accuracy: 0.4956\n",
      "Epoch 18/50\n",
      "72/72 [==============================] - 1s 9ms/step - loss: 0.6927 - accuracy: 0.5123 - val_loss: 0.6935 - val_accuracy: 0.4972\n",
      "Epoch 19/50\n",
      "72/72 [==============================] - 0s 5ms/step - loss: 0.6927 - accuracy: 0.5100 - val_loss: 0.6935 - val_accuracy: 0.4966\n",
      "Epoch 20/50\n",
      "72/72 [==============================] - 0s 5ms/step - loss: 0.6925 - accuracy: 0.5132 - val_loss: 0.6935 - val_accuracy: 0.4973\n",
      "Epoch 21/50\n",
      "72/72 [==============================] - 0s 6ms/step - loss: 0.6925 - accuracy: 0.5117 - val_loss: 0.6938 - val_accuracy: 0.4967\n",
      "Epoch 22/50\n",
      "72/72 [==============================] - 1s 7ms/step - loss: 0.6925 - accuracy: 0.5140 - val_loss: 0.6938 - val_accuracy: 0.4955\n",
      "Epoch 23/50\n",
      "72/72 [==============================] - 1s 8ms/step - loss: 0.6926 - accuracy: 0.5151 - val_loss: 0.6936 - val_accuracy: 0.4953\n",
      "Epoch 24/50\n",
      "72/72 [==============================] - 0s 7ms/step - loss: 0.6924 - accuracy: 0.5148 - val_loss: 0.6938 - val_accuracy: 0.4959\n",
      "Epoch 25/50\n",
      "72/72 [==============================] - 0s 7ms/step - loss: 0.6925 - accuracy: 0.5129 - val_loss: 0.6936 - val_accuracy: 0.4984\n",
      "Epoch 26/50\n",
      "72/72 [==============================] - 0s 6ms/step - loss: 0.6923 - accuracy: 0.5149 - val_loss: 0.6936 - val_accuracy: 0.4995\n",
      "Epoch 27/50\n",
      "72/72 [==============================] - 0s 5ms/step - loss: 0.6924 - accuracy: 0.5177 - val_loss: 0.6937 - val_accuracy: 0.4959\n",
      "Epoch 28/50\n",
      "72/72 [==============================] - 0s 6ms/step - loss: 0.6924 - accuracy: 0.5169 - val_loss: 0.6937 - val_accuracy: 0.4965\n",
      "Epoch 29/50\n",
      "72/72 [==============================] - 0s 5ms/step - loss: 0.6923 - accuracy: 0.5160 - val_loss: 0.6937 - val_accuracy: 0.4978\n",
      "Epoch 30/50\n",
      "72/72 [==============================] - 0s 5ms/step - loss: 0.6924 - accuracy: 0.5161 - val_loss: 0.6936 - val_accuracy: 0.5019\n",
      "Epoch 31/50\n",
      "72/72 [==============================] - 0s 6ms/step - loss: 0.6923 - accuracy: 0.5146 - val_loss: 0.6938 - val_accuracy: 0.5036\n",
      "Epoch 32/50\n",
      "72/72 [==============================] - 0s 5ms/step - loss: 0.6924 - accuracy: 0.5146 - val_loss: 0.6936 - val_accuracy: 0.4964\n",
      "Epoch 33/50\n",
      "72/72 [==============================] - 0s 5ms/step - loss: 0.6922 - accuracy: 0.5183 - val_loss: 0.6938 - val_accuracy: 0.4997\n",
      "Epoch 34/50\n",
      "72/72 [==============================] - 1s 9ms/step - loss: 0.6921 - accuracy: 0.5195 - val_loss: 0.6938 - val_accuracy: 0.4982\n",
      "Epoch 35/50\n",
      "72/72 [==============================] - 1s 8ms/step - loss: 0.6923 - accuracy: 0.5168 - val_loss: 0.6937 - val_accuracy: 0.4984\n",
      "Epoch 36/50\n",
      "72/72 [==============================] - 1s 8ms/step - loss: 0.6923 - accuracy: 0.5166 - val_loss: 0.6938 - val_accuracy: 0.4977\n",
      "Epoch 37/50\n",
      "72/72 [==============================] - 0s 7ms/step - loss: 0.6922 - accuracy: 0.5177 - val_loss: 0.6939 - val_accuracy: 0.4978\n",
      "Epoch 38/50\n",
      "72/72 [==============================] - 0s 7ms/step - loss: 0.6921 - accuracy: 0.5179 - val_loss: 0.6939 - val_accuracy: 0.4948\n",
      "Epoch 39/50\n",
      "72/72 [==============================] - 0s 7ms/step - loss: 0.6922 - accuracy: 0.5168 - val_loss: 0.6940 - val_accuracy: 0.4980\n",
      "Epoch 40/50\n",
      "72/72 [==============================] - 0s 6ms/step - loss: 0.6921 - accuracy: 0.5166 - val_loss: 0.6941 - val_accuracy: 0.4982\n",
      "Epoch 41/50\n",
      "72/72 [==============================] - 0s 6ms/step - loss: 0.6921 - accuracy: 0.5161 - val_loss: 0.6939 - val_accuracy: 0.5009\n",
      "Epoch 42/50\n",
      "72/72 [==============================] - 0s 6ms/step - loss: 0.6922 - accuracy: 0.5169 - val_loss: 0.6939 - val_accuracy: 0.5021\n",
      "Epoch 43/50\n",
      "72/72 [==============================] - 0s 7ms/step - loss: 0.6920 - accuracy: 0.5191 - val_loss: 0.6940 - val_accuracy: 0.5000\n",
      "Epoch 44/50\n",
      "72/72 [==============================] - 0s 7ms/step - loss: 0.6919 - accuracy: 0.5194 - val_loss: 0.6939 - val_accuracy: 0.5012\n",
      "Epoch 45/50\n",
      "72/72 [==============================] - 0s 6ms/step - loss: 0.6918 - accuracy: 0.5201 - val_loss: 0.6944 - val_accuracy: 0.4964\n",
      "Epoch 46/50\n",
      "72/72 [==============================] - 0s 6ms/step - loss: 0.6920 - accuracy: 0.5181 - val_loss: 0.6939 - val_accuracy: 0.4997\n",
      "Epoch 47/50\n",
      "72/72 [==============================] - 0s 7ms/step - loss: 0.6919 - accuracy: 0.5193 - val_loss: 0.6941 - val_accuracy: 0.4997\n",
      "Epoch 48/50\n",
      "72/72 [==============================] - 0s 6ms/step - loss: 0.6921 - accuracy: 0.5200 - val_loss: 0.6946 - val_accuracy: 0.4947\n",
      "Epoch 49/50\n",
      "72/72 [==============================] - 0s 7ms/step - loss: 0.6918 - accuracy: 0.5224 - val_loss: 0.6944 - val_accuracy: 0.4948\n",
      "Epoch 50/50\n",
      "72/72 [==============================] - 0s 6ms/step - loss: 0.6917 - accuracy: 0.5215 - val_loss: 0.6943 - val_accuracy: 0.4967\n"
     ]
    },
    {
     "data": {
      "text/plain": [
       "<keras.src.callbacks.History at 0x215cf389600>"
      ]
     },
     "execution_count": 22,
     "metadata": {},
     "output_type": "execute_result"
    }
   ],
   "source": [
    "model.fit(x=features, y=targets, batch_size=1000, epochs=50, validation_split=0.2)"
   ]
  },
  {
   "cell_type": "code",
   "execution_count": 23,
   "id": "931e0a26",
   "metadata": {},
   "outputs": [
    {
     "name": "stdout",
     "output_type": "stream",
     "text": [
      "313/313 [==============================] - 0s 1ms/step - loss: 0.6947 - accuracy: 0.4926\n"
     ]
    },
    {
     "data": {
      "text/plain": [
       "[0.6946685314178467, 0.4925999939441681]"
      ]
     },
     "execution_count": 23,
     "metadata": {},
     "output_type": "execute_result"
    }
   ],
   "source": [
    "test_features = preprocesser.transform(X_test)\n",
    "test_targets = y_test\n",
    "\n",
    "model.evaluate(test_features, test_targets)"
   ]
  },
  {
   "cell_type": "code",
   "execution_count": 24,
   "id": "6c9c4d5f",
   "metadata": {},
   "outputs": [],
   "source": [
    "import pickle\n",
    "\n",
    "pickle.dump(clf, open(\"model.pkl\", 'wb'))"
   ]
  },
  {
   "cell_type": "code",
   "execution_count": null,
   "id": "43e5aabb",
   "metadata": {},
   "outputs": [],
   "source": []
  }
 ],
 "metadata": {
  "kernelspec": {
   "display_name": "Python 3 (ipykernel)",
   "language": "python",
   "name": "python3"
  },
  "language_info": {
   "codemirror_mode": {
    "name": "ipython",
    "version": 3
   },
   "file_extension": ".py",
   "mimetype": "text/x-python",
   "name": "python",
   "nbconvert_exporter": "python",
   "pygments_lexer": "ipython3",
   "version": "3.10.9"
  }
 },
 "nbformat": 4,
 "nbformat_minor": 5
}
